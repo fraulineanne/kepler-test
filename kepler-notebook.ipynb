{
 "cells": [
  {
   "cell_type": "code",
   "execution_count": 3,
   "metadata": {},
   "outputs": [],
   "source": [
    "from keplergl import KeplerGl"
   ]
  },
  {
   "cell_type": "code",
   "execution_count": null,
   "metadata": {},
   "outputs": [
    {
     "name": "stdout",
     "output_type": "stream",
     "text": [
      "User Guide: https://docs.kepler.gl/docs/keplergl-jupyter\n"
     ]
    },
    {
     "data": {
      "application/vnd.jupyter.widget-view+json": {
       "model_id": "394f232075e74c67ba76346b277f23a7",
       "version_major": 2,
       "version_minor": 0
      },
      "text/plain": [
       "KeplerGl(height=800)"
      ]
     },
     "execution_count": 4,
     "metadata": {},
     "output_type": "execute_result"
    }
   ],
   "source": [
    "map_1 = KeplerGl(height=800)\n",
    "map_1"
   ]
  },
  {
   "cell_type": "code",
   "execution_count": 26,
   "metadata": {},
   "outputs": [
    {
     "data": {
      "text/plain": [
       "(60, 15)"
      ]
     },
     "execution_count": 26,
     "metadata": {},
     "output_type": "execute_result"
    }
   ],
   "source": [
    "import pandas as pd\n",
    "df = pd.read_csv(r'C:\\Users\\fraul\\OneDrive\\Documents\\markers.csv')\n",
    "df.shape"
   ]
  },
  {
   "cell_type": "code",
   "execution_count": null,
   "metadata": {},
   "outputs": [],
   "source": [
    "map_1.add_data(data=df, name='markers')"
   ]
  },
  {
   "cell_type": "code",
   "execution_count": 35,
   "metadata": {},
   "outputs": [
    {
     "data": {
      "text/plain": [
       "{'version': 'v1',\n",
       " 'config': {'visState': {'filters': [{'dataId': ['markers'],\n",
       "     'id': 'ogsg58lmg',\n",
       "     'name': ['time'],\n",
       "     'type': 'timeRange',\n",
       "     'value': [1736435236640.809, 1736436288640.8093],\n",
       "     'plotType': 'histogram',\n",
       "     'animationWindow': 'free',\n",
       "     'yAxis': None,\n",
       "     'view': 'enlarged',\n",
       "     'speed': 1,\n",
       "     'enabled': True}],\n",
       "   'layers': [{'id': 'o4vllun',\n",
       "     'type': 'point',\n",
       "     'config': {'dataId': 'markers',\n",
       "      'label': 'PM25',\n",
       "      'color': [218, 112, 191],\n",
       "      'highlightColor': [252, 242, 26, 255],\n",
       "      'columns': {'lat': 'latitude', 'lng': 'longitude'},\n",
       "      'isVisible': True,\n",
       "      'visConfig': {'radius': 10,\n",
       "       'fixedRadius': False,\n",
       "       'opacity': 0.8,\n",
       "       'outline': False,\n",
       "       'thickness': 2,\n",
       "       'strokeColor': None,\n",
       "       'colorRange': {'name': 'Custom Palette',\n",
       "        'type': 'custom',\n",
       "        'category': 'Custom',\n",
       "        'colors': ['#2bc018',\n",
       "         '#F1920E',\n",
       "         '#E3611C',\n",
       "         '#C70039',\n",
       "         '#900C3F',\n",
       "         '#5A1846']},\n",
       "       'strokeColorRange': {'name': 'Global Warming',\n",
       "        'type': 'sequential',\n",
       "        'category': 'Uber',\n",
       "        'colors': ['#5A1846',\n",
       "         '#900C3F',\n",
       "         '#C70039',\n",
       "         '#E3611C',\n",
       "         '#F1920E',\n",
       "         '#FFC300']},\n",
       "       'radiusRange': [0, 50],\n",
       "       'filled': True},\n",
       "      'hidden': False,\n",
       "      'textLabel': [{'field': {'name': 'PM25', 'type': 'integer'},\n",
       "        'color': [255, 255, 255],\n",
       "        'size': 18,\n",
       "        'offset': [0, 0],\n",
       "        'anchor': 'start',\n",
       "        'alignment': 'center',\n",
       "        'outlineWidth': 0,\n",
       "        'outlineColor': [255, 0, 0, 255],\n",
       "        'background': False,\n",
       "        'backgroundColor': [0, 0, 200, 255]}]},\n",
       "     'visualChannels': {'colorField': {'name': 'PM25', 'type': 'integer'},\n",
       "      'colorScale': 'quantile',\n",
       "      'strokeColorField': None,\n",
       "      'strokeColorScale': 'quantile',\n",
       "      'sizeField': None,\n",
       "      'sizeScale': 'linear'}},\n",
       "    {'id': 'ztsrti',\n",
       "     'type': 'point',\n",
       "     'config': {'dataId': 'markers',\n",
       "      'label': 'PM10',\n",
       "      'color': [218, 112, 191],\n",
       "      'highlightColor': [252, 242, 26, 255],\n",
       "      'columns': {'lat': 'latitude', 'lng': 'longitude'},\n",
       "      'isVisible': True,\n",
       "      'visConfig': {'radius': 10,\n",
       "       'fixedRadius': False,\n",
       "       'opacity': 0.8,\n",
       "       'outline': False,\n",
       "       'thickness': 2,\n",
       "       'strokeColor': None,\n",
       "       'colorRange': {'name': 'Custom Palette',\n",
       "        'type': 'custom',\n",
       "        'category': 'Custom',\n",
       "        'colors': ['#2bc018',\n",
       "         '#F1920E',\n",
       "         '#E3611C',\n",
       "         '#C70039',\n",
       "         '#900C3F',\n",
       "         '#5A1846']},\n",
       "       'strokeColorRange': {'name': 'Global Warming',\n",
       "        'type': 'sequential',\n",
       "        'category': 'Uber',\n",
       "        'colors': ['#5A1846',\n",
       "         '#900C3F',\n",
       "         '#C70039',\n",
       "         '#E3611C',\n",
       "         '#F1920E',\n",
       "         '#FFC300']},\n",
       "       'radiusRange': [0, 50],\n",
       "       'filled': True},\n",
       "      'hidden': False,\n",
       "      'textLabel': [{'field': {'name': 'PM10', 'type': 'integer'},\n",
       "        'color': [255, 255, 255],\n",
       "        'size': 18,\n",
       "        'offset': [0, 0],\n",
       "        'anchor': 'start',\n",
       "        'alignment': 'center',\n",
       "        'outlineWidth': 0,\n",
       "        'outlineColor': [255, 0, 0, 255],\n",
       "        'background': False,\n",
       "        'backgroundColor': [0, 0, 200, 255]}]},\n",
       "     'visualChannels': {'colorField': {'name': 'PM10', 'type': 'integer'},\n",
       "      'colorScale': 'quantile',\n",
       "      'strokeColorField': None,\n",
       "      'strokeColorScale': 'quantile',\n",
       "      'sizeField': None,\n",
       "      'sizeScale': 'linear'}}],\n",
       "   'effects': [],\n",
       "   'interactionConfig': {'tooltip': {'fieldsToShow': {'markers': [{'name': 'id',\n",
       "        'format': None},\n",
       "       {'name': 'title', 'format': None},\n",
       "       {'name': 'data', 'format': None},\n",
       "       {'name': 'time', 'format': None},\n",
       "       {'name': 'PM25', 'format': None}]},\n",
       "     'compareMode': False,\n",
       "     'compareType': 'absolute',\n",
       "     'enabled': True},\n",
       "    'brush': {'size': 0.5, 'enabled': False},\n",
       "    'geocoder': {'enabled': False},\n",
       "    'coordinate': {'enabled': False}},\n",
       "   'layerBlending': 'normal',\n",
       "   'overlayBlending': 'normal',\n",
       "   'splitMaps': [],\n",
       "   'animationConfig': {'currentTime': None, 'speed': 1},\n",
       "   'editor': {'features': [], 'visible': True}},\n",
       "  'mapState': {'bearing': 0,\n",
       "   'dragRotate': False,\n",
       "   'latitude': 14.650447086416273,\n",
       "   'longitude': 121.06838873433739,\n",
       "   'pitch': 0,\n",
       "   'zoom': 16.343549813594574,\n",
       "   'isSplit': False,\n",
       "   'isViewportSynced': True,\n",
       "   'isZoomLocked': False,\n",
       "   'splitMapViewports': []},\n",
       "  'mapStyle': {'styleType': 'dark-matter',\n",
       "   'topLayerGroups': {},\n",
       "   'visibleLayerGroups': {'label': True,\n",
       "    'road': True,\n",
       "    'border': False,\n",
       "    'building': True,\n",
       "    'water': True,\n",
       "    'land': True,\n",
       "    '3d building': False},\n",
       "   'threeDBuildingColor': [15.035172933000911,\n",
       "    15.035172933000911,\n",
       "    15.035172933000911],\n",
       "   'backgroundColor': [0, 0, 0],\n",
       "   'mapStyles': {}}}}"
      ]
     },
     "execution_count": 35,
     "metadata": {},
     "output_type": "execute_result"
    }
   ],
   "source": [
    "map_1.config"
   ]
  },
  {
   "cell_type": "code",
   "execution_count": null,
   "metadata": {},
   "outputs": [],
   "source": [
    "# Save map_1 config to a file\n",
    "# with open('hex_config.py', 'w') as f:\n",
    "#    f.write('config = {}'.format(map_1.config))\n"
   ]
  },
  {
   "cell_type": "code",
   "execution_count": null,
   "metadata": {},
   "outputs": [],
   "source": [
    "# load the config\n",
    "%run hex_config.py"
   ]
  },
  {
   "cell_type": "code",
   "execution_count": null,
   "metadata": {},
   "outputs": [
    {
     "name": "stdout",
     "output_type": "stream",
     "text": [
      "User Guide: https://docs.kepler.gl/docs/keplergl-jupyter\n"
     ]
    },
    {
     "data": {
      "application/vnd.jupyter.widget-view+json": {
       "model_id": "e2d6b36fdaa848a78c61932d4be19d5c",
       "version_major": 2,
       "version_minor": 0
      },
      "text/plain": [
       "KeplerGl(config={'version': 'v1', 'config': {'visState': {'filters': [{'dataId': ['markers'], 'id': 'ogsg58lmg…"
      ]
     },
     "execution_count": 33,
     "metadata": {},
     "output_type": "execute_result"
    }
   ],
   "source": [
    "KeplerGl(height=500, data={'markers': df}, config=config)"
   ]
  },
  {
   "cell_type": "code",
   "execution_count": 34,
   "metadata": {},
   "outputs": [
    {
     "name": "stdout",
     "output_type": "stream",
     "text": [
      "Map saved to pm_map.html!\n"
     ]
    }
   ],
   "source": [
    "map_1.save_to_html(data={'markers': df}, config=config, file_name='pm_map.html')\n"
   ]
  },
  {
   "cell_type": "code",
   "execution_count": 36,
   "metadata": {},
   "outputs": [
    {
     "name": "stdout",
     "output_type": "stream",
     "text": [
      "Config saved as kepler_config.json\n"
     ]
    }
   ],
   "source": [
    "import json\n",
    "\n",
    "# Get the current map config\n",
    "config = map_1.config\n",
    "\n",
    "# Save to a JSON file\n",
    "with open(\"kepler_config.json\", \"w\") as f:\n",
    "    json.dump(config, f)\n",
    "    \n",
    "print(\"Config saved as kepler_config.json\")\n"
   ]
  }
 ],
 "metadata": {
  "kernelspec": {
   "display_name": "base",
   "language": "python",
   "name": "python3"
  },
  "language_info": {
   "codemirror_mode": {
    "name": "ipython",
    "version": 3
   },
   "file_extension": ".py",
   "mimetype": "text/x-python",
   "name": "python",
   "nbconvert_exporter": "python",
   "pygments_lexer": "ipython3",
   "version": "3.12.3"
  }
 },
 "nbformat": 4,
 "nbformat_minor": 2
}
